{
 "cells": [
  {
   "cell_type": "markdown",
   "id": "89068dca",
   "metadata": {},
   "source": [
    "# Hello, World! \n",
    "#### Print a string"
   ]
  },
  {
   "cell_type": "code",
   "execution_count": 121,
   "id": "1218ec04",
   "metadata": {},
   "outputs": [
    {
     "name": "stdout",
     "output_type": "stream",
     "text": [
      "This line will be printed.\n"
     ]
    }
   ],
   "source": [
    "print(\"This line will be printed.\")"
   ]
  },
  {
   "cell_type": "markdown",
   "id": "f9e0d3a8",
   "metadata": {},
   "source": [
    "# Indentation\n",
    "#### Python uses indentation for blocks, not curly braces. \n",
    "#### Both tabs and spaces are supported;\n",
    "#### The standard indentation requires standard code to use four spaces"
   ]
  },
  {
   "cell_type": "code",
   "execution_count": 122,
   "id": "6fd7edf3",
   "metadata": {},
   "outputs": [
    {
     "name": "stdout",
     "output_type": "stream",
     "text": [
      "x is 1.\n"
     ]
    }
   ],
   "source": [
    "x = 1\n",
    "if x == 1:\n",
    "    # indented four spaces\n",
    "    print(\"x is 1.\")"
   ]
  },
  {
   "cell_type": "code",
   "execution_count": 123,
   "id": "9fce8d24",
   "metadata": {},
   "outputs": [
    {
     "name": "stdout",
     "output_type": "stream",
     "text": [
      "Goodbye, World!\n"
     ]
    }
   ],
   "source": [
    "print(\"Goodbye, World!\")"
   ]
  },
  {
   "cell_type": "markdown",
   "id": "393cb1b2",
   "metadata": {},
   "source": [
    "# Variables and Types\n",
    "#### Python is completely object oriented, not \"statically typed\". \n",
    "#### You do not need to declare variables before using them\n",
    "#### Every variable in Python is an object"
   ]
  },
  {
   "cell_type": "markdown",
   "id": "2959eb01",
   "metadata": {},
   "source": [
    "## Basic types of Variables:"
   ]
  },
  {
   "cell_type": "markdown",
   "id": "9b25a8ea",
   "metadata": {},
   "source": [
    "### Numbers\n",
    "#### Two types of numbers\n",
    "#### - Integars (whole numbers) and,\n",
    "#### - Floating Point Numbers (decimals)"
   ]
  },
  {
   "cell_type": "code",
   "execution_count": 124,
   "id": "72819a71",
   "metadata": {},
   "outputs": [
    {
     "name": "stdout",
     "output_type": "stream",
     "text": [
      "7\n"
     ]
    }
   ],
   "source": [
    "# To define an integer, use the following syntax:\n",
    "myint = 7\n",
    "print(myint)"
   ]
  },
  {
   "cell_type": "code",
   "execution_count": 125,
   "id": "2b94c79e",
   "metadata": {},
   "outputs": [
    {
     "name": "stdout",
     "output_type": "stream",
     "text": [
      "7.0\n",
      "7.0\n"
     ]
    }
   ],
   "source": [
    "# To define a floating point number,\n",
    "# you may use one of the following notations:\n",
    "myfloat = 7.0\n",
    "print(myfloat)\n",
    "myfloat = float(7)\n",
    "print(myfloat)\n"
   ]
  },
  {
   "cell_type": "markdown",
   "id": "5e2a5de8",
   "metadata": {},
   "source": [
    "### Strings"
   ]
  },
  {
   "cell_type": "code",
   "execution_count": 126,
   "id": "f9fc54c2",
   "metadata": {},
   "outputs": [
    {
     "name": "stdout",
     "output_type": "stream",
     "text": [
      "hello\n",
      "hello\n"
     ]
    }
   ],
   "source": [
    "# Strings are defined either with a single quote or a double quotes\n",
    "mystring = 'hello'\n",
    "print(mystring)\n",
    "mystring = \"hello\"\n",
    "print(mystring)"
   ]
  },
  {
   "cell_type": "code",
   "execution_count": 127,
   "id": "296e030d",
   "metadata": {},
   "outputs": [
    {
     "name": "stdout",
     "output_type": "stream",
     "text": [
      "Don't worry about apostrophes\n"
     ]
    }
   ],
   "source": [
    "# The difference: using double quotes makes it easy to include apostrophes\n",
    "# Whereas these would terminate the string if using single quotes\n",
    "mystring = \"Don't worry about apostrophes\"\n",
    "print(mystring)"
   ]
  },
  {
   "cell_type": "code",
   "execution_count": 128,
   "id": "6efbe0bc",
   "metadata": {},
   "outputs": [],
   "source": [
    "# Additional variations on defining strings that make it easier to include:\n",
    "# carriage returns, backslashes, and Unicode characters"
   ]
  },
  {
   "cell_type": "code",
   "execution_count": 129,
   "id": "76c6170d",
   "metadata": {},
   "outputs": [
    {
     "name": "stdout",
     "output_type": "stream",
     "text": [
      "3\n",
      "hello world\n"
     ]
    }
   ],
   "source": [
    "# Simple operators can be executed on numbers and strings:\n",
    "one = 1\n",
    "two = 2\n",
    "three = one + two\n",
    "print(three)\n",
    "\n",
    "hello = \"hello\"\n",
    "world = \"world\"\n",
    "helloworld = hello + \" \" + world\n",
    "print(helloworld)"
   ]
  },
  {
   "cell_type": "code",
   "execution_count": 130,
   "id": "762edc27",
   "metadata": {},
   "outputs": [
    {
     "name": "stdout",
     "output_type": "stream",
     "text": [
      "3 4\n"
     ]
    }
   ],
   "source": [
    "# Assignments can be done on more than one variable \"simultanously\" on the same line like this\n",
    "a, b = 3, 4\n",
    "print(a, b)"
   ]
  },
  {
   "cell_type": "code",
   "execution_count": 131,
   "id": "2632e611",
   "metadata": {},
   "outputs": [
    {
     "ename": "TypeError",
     "evalue": "unsupported operand type(s) for +: 'int' and 'str'",
     "output_type": "error",
     "traceback": [
      "\u001b[0;31m---------------------------------------------------------------------------\u001b[0m",
      "\u001b[0;31mTypeError\u001b[0m                                 Traceback (most recent call last)",
      "Input \u001b[0;32mIn [131]\u001b[0m, in \u001b[0;36m<cell line: 7>\u001b[0;34m()\u001b[0m\n\u001b[1;32m      4\u001b[0m two \u001b[38;5;241m=\u001b[39m \u001b[38;5;241m2\u001b[39m\n\u001b[1;32m      5\u001b[0m hello \u001b[38;5;241m=\u001b[39m \u001b[38;5;124m\"\u001b[39m\u001b[38;5;124mhello\u001b[39m\u001b[38;5;124m\"\u001b[39m\n\u001b[0;32m----> 7\u001b[0m \u001b[38;5;28mprint\u001b[39m(\u001b[43mone\u001b[49m\u001b[43m \u001b[49m\u001b[38;5;241;43m+\u001b[39;49m\u001b[43m \u001b[49m\u001b[43mtwo\u001b[49m\u001b[43m \u001b[49m\u001b[38;5;241;43m+\u001b[39;49m\u001b[43m \u001b[49m\u001b[43mhello\u001b[49m)\n",
      "\u001b[0;31mTypeError\u001b[0m: unsupported operand type(s) for +: 'int' and 'str'"
     ]
    }
   ],
   "source": [
    "# Mixing operators between numbers and strings is not supported:\n",
    "# This will not work! \n",
    "one = 1\n",
    "two = 2\n",
    "hello = \"hello\"\n",
    "\n",
    "print(one + two + hello)"
   ]
  },
  {
   "cell_type": "code",
   "execution_count": null,
   "id": "8d733d6b",
   "metadata": {},
   "outputs": [],
   "source": [
    "# change this code\n",
    "mystring = \"hello\"\n",
    "myfloat = 10.0\n",
    "myint = 20\n",
    "\n",
    "# testing code\n",
    "if mystring == \"hello\":\n",
    "    print(\"String: %s\" % mystring)\n",
    "if isinstance(myfloat, float) and myfloat == 10.0:\n",
    "    print(\"Float: %f\" % myfloat)\n",
    "if isinstance(myint, int) and myint == 20:\n",
    "    print(\"Integer: %d\" % myint)"
   ]
  },
  {
   "cell_type": "markdown",
   "id": "b3cdb859",
   "metadata": {},
   "source": [
    "# Lists\n",
    "#### Similar to arrays. They can contain any type/as many variables as you wish\n",
    "#### Can be iterated over in a very simple manner"
   ]
  },
  {
   "cell_type": "code",
   "execution_count": null,
   "id": "6cc0ed2d",
   "metadata": {},
   "outputs": [],
   "source": [
    "# Example of how to build a list\n",
    "mylist = []\n",
    "mylist.append(1)\n",
    "mylist.append(2)\n",
    "mylist.append(3)\n",
    "print(mylist[0])\n",
    "print(mylist[1])\n",
    "print(mylist[2])\n",
    "\n",
    "# Prints out 1,2,3\n",
    "for x in mylist:\n",
    "    print(x)"
   ]
  },
  {
   "cell_type": "code",
   "execution_count": null,
   "id": "93c8622b",
   "metadata": {},
   "outputs": [],
   "source": [
    "# Accesing an index which does not exist generates an exception (an error).\n",
    "mylist = [1,2,3]\n",
    "print(mylist[10])"
   ]
  },
  {
   "cell_type": "code",
   "execution_count": null,
   "id": "25fe1406",
   "metadata": {},
   "outputs": [],
   "source": [
    "# Add numbers and strings to coorect lists using \"append\" method\n",
    "# Add the numbers 1,2,3 to \"numbers\" list, \n",
    "# The words 'hello' and 'world' to the string variable\n",
    "# Fill in the variable second_name with the second name in the names list using []\n",
    "# Note the index is zero-based (if accessing second item, its index will be 1)\n",
    "\n",
    "numbers = []\n",
    "strings = []\n",
    "names = [\"John\", \"Eric\", \"Jessica\"]\n",
    "\n",
    "# write your code here\n",
    "numbers.append(1)\n",
    "numbers.append(2)\n",
    "numbers.append(3)\n",
    "\n",
    "strings.append(\"hello\")\n",
    "strings.append(\"world\")\n",
    "second_name = names[1]\n",
    "\n",
    "\n",
    "# this code should write out the filled arrays and the second name in the names list (Eric).\n",
    "print(numbers)\n",
    "print(strings)\n",
    "print(\"The second name on the names list is %s\" % second_name)"
   ]
  },
  {
   "cell_type": "markdown",
   "id": "5d836fcf",
   "metadata": {},
   "source": [
    "# Basic Operators"
   ]
  },
  {
   "cell_type": "markdown",
   "id": "a835f30c",
   "metadata": {},
   "source": [
    "### Arithmetic Operators"
   ]
  },
  {
   "cell_type": "code",
   "execution_count": null,
   "id": "fc8ad27b",
   "metadata": {},
   "outputs": [],
   "source": [
    "# The addition, subtraction, multiplication, and division operators can be used with numbers.\n",
    "number = 1 + 2 * 3 / 4.0\n",
    "print(number)"
   ]
  },
  {
   "cell_type": "markdown",
   "id": "70faa3eb",
   "metadata": {},
   "source": [
    "### Modulo (%) Operator"
   ]
  },
  {
   "cell_type": "code",
   "execution_count": null,
   "id": "f27fd658",
   "metadata": {},
   "outputs": [],
   "source": [
    "# Returns the integer remainder of the division. \n",
    "# dividend % divisor = remainder.\n",
    "\n",
    "remainder = 11 % 3\n",
    "print(remainder)"
   ]
  },
  {
   "cell_type": "code",
   "execution_count": null,
   "id": "4e0ca2b8",
   "metadata": {},
   "outputs": [],
   "source": [
    "number1 = 25\n",
    "number2 = 5\n",
    "\n",
    "# Find the modulus of 1 by 2\n",
    "print(number1 % number2)\n",
    "\n",
    "# The answer is 0 because\n",
    "# 5 fits into 25 five times with no remainder left"
   ]
  },
  {
   "cell_type": "code",
   "execution_count": null,
   "id": "cdedf552",
   "metadata": {},
   "outputs": [],
   "source": [
    "# How many times does the number after % fit into the first\n",
    "# You can divide 3 into 10 three times and the remainder will be 1\n",
    "number1 = 10\n",
    "number2 = 3\n",
    "print(number1 % number2)"
   ]
  },
  {
   "cell_type": "markdown",
   "id": "6b63688f",
   "metadata": {},
   "source": [
    "## Multiplication symbols makes a power relationship (exponent)"
   ]
  },
  {
   "cell_type": "code",
   "execution_count": null,
   "id": "9d85f957",
   "metadata": {},
   "outputs": [],
   "source": [
    "squared = 7 ** 2\n",
    "cubed = 2 ** 3\n",
    "print(squared)\n",
    "print(cubed)"
   ]
  },
  {
   "cell_type": "markdown",
   "id": "0da40aa7",
   "metadata": {},
   "source": [
    "## Using Operators with Strings"
   ]
  },
  {
   "cell_type": "code",
   "execution_count": null,
   "id": "ffc20249",
   "metadata": {},
   "outputs": [],
   "source": [
    "helloworld = \"hello\" + \" \" + \"world\"\n",
    "print(helloworld)"
   ]
  },
  {
   "cell_type": "code",
   "execution_count": null,
   "id": "76179c4e",
   "metadata": {},
   "outputs": [],
   "source": [
    "# Python also supports multiplying strings to form a string with a repeating sequence\n",
    "\n",
    "lotsofhellos = \"hello\" * 10\n",
    "print(lotsofhellos)"
   ]
  },
  {
   "cell_type": "markdown",
   "id": "ee82f567",
   "metadata": {},
   "source": [
    "## Using Operators with Lists"
   ]
  },
  {
   "cell_type": "code",
   "execution_count": null,
   "id": "a44ac5a0",
   "metadata": {},
   "outputs": [],
   "source": [
    "# Lists can be joined with the addition operators:\n",
    "\n",
    "even_numbers = [2,4,6,8]\n",
    "odd_numbers = [1,3,5,7]\n",
    "all_numbers = odd_numbers + even_numbers\n",
    "print(all_numbers)"
   ]
  },
  {
   "cell_type": "code",
   "execution_count": null,
   "id": "8c241432",
   "metadata": {},
   "outputs": [],
   "source": [
    "# Just as in strings, Python supports forming new lists with repeating sequence using the\n",
    "# Multiplication Operator:\n",
    "print([1,2,3] *3)"
   ]
  },
  {
   "cell_type": "code",
   "execution_count": null,
   "id": "1c6cd057",
   "metadata": {},
   "outputs": [],
   "source": [
    "# Create two lists called x_list and y_list, \n",
    "# which contain 10 instances of the variables x and y, respectively.\n",
    "# Create a list called big_list, which contains the variables x and y, 10 times each,\n",
    "# by concatenating the two lists you have created\n",
    "\n",
    "x = object()\n",
    "y = object()\n",
    "\n",
    "# TODO: change this code\n",
    "x_list = [x] * 10\n",
    "y_list = [y] * 10\n",
    "big_list = x_list + y_list\n",
    "\n",
    "print(\"x_list contains %d objects\" % len(x_list))\n",
    "print(\"y_list contains %d objects\" % len(y_list))\n",
    "print(\"big_list contains %d objects\" % len(big_list))\n",
    "\n",
    "# testing code\n",
    "if x_list.count(x) == 10 and y_list.count(y) == 10:\n",
    "    print(\"Almost there...\")\n",
    "if big_list.count(x) == 10 and big_list.count(y) == 10:\n",
    "    print(\"Great!\")"
   ]
  },
  {
   "cell_type": "markdown",
   "id": "7609efee",
   "metadata": {},
   "source": [
    "# String Formatting\n",
    "#### Python uses C-style string formatting to create new, formatted strings.\n",
    "#### The \"%\" operator is used to format a set of variable exclosed in a \"tuple\" (a fixed size list),\n"
   ]
  },
  {
   "cell_type": "markdown",
   "id": "31b0c89d",
   "metadata": {},
   "source": [
    "#### Together with a format string, which contains normal text together with \"argument specifiers\", \n",
    "#### Special symbols like \"%s\" and \"%d\"\n"
   ]
  },
  {
   "cell_type": "code",
   "execution_count": null,
   "id": "136940b2",
   "metadata": {},
   "outputs": [],
   "source": [
    "# Let's say you have a variable called \"name\" with your user name in it\n",
    "# Then you would like to print(out a greeting to that user.)\n",
    "\n",
    "#This prints out \"Hello, John!\"\n",
    "name = \"John\"\n",
    "print(\"Hello, %s\" % name)"
   ]
  },
  {
   "cell_type": "code",
   "execution_count": null,
   "id": "a9a545d1",
   "metadata": {},
   "outputs": [],
   "source": [
    "# This prints out \"John is 23 years old.\"\n",
    "name = \"John\"\n",
    "age = 23\n",
    "print(\"%s is %d years old.\" % (name, age))"
   ]
  },
  {
   "cell_type": "markdown",
   "id": "2274414e",
   "metadata": {},
   "source": [
    "## Basic argument specifiers you should know:\n",
    "#### %s - String (or any object with a string representation, like numbers)\n",
    "#### %d - Integers \n",
    "#### %f - Floating point numbers\n",
    "#### %.< number of digits >f - Floating numbers with a fixed amount of digits to the right of the dot.\n",
    "#### %x/%X - Integers in hex representation (lowercase/uppercare)"
   ]
  },
  {
   "cell_type": "code",
   "execution_count": null,
   "id": "2991bbfa",
   "metadata": {},
   "outputs": [],
   "source": [
    "# Write a format string which prints out the data using the following syntax:\n",
    "# Hello John Doe. Your current balance is $53.44\n",
    "\n",
    "data = (\"John\", \"Doe\", 53.44)\n",
    "format_string = \"Hello %s %s. Your current balance is $%s.\"\n",
    "\n",
    "print(format_string % data)"
   ]
  },
  {
   "cell_type": "markdown",
   "id": "cc7a1b5f",
   "metadata": {},
   "source": [
    "## Basic String Operations"
   ]
  },
  {
   "cell_type": "code",
   "execution_count": null,
   "id": "9b579f20",
   "metadata": {},
   "outputs": [],
   "source": [
    "# Strings are bits of text. They can be defined as anything between quotes:\n",
    "astring = \"Hello world!\"\n",
    "astring2 = 'Hello world!'"
   ]
  },
  {
   "cell_type": "code",
   "execution_count": null,
   "id": "dbc15c3d",
   "metadata": {},
   "outputs": [],
   "source": [
    "# You can also use single quotes to assign a string.\n",
    "# However, you will face problems if the value to be assigned itself contains single quotes\n",
    "\n",
    "#Assign the string in these bracket(single quotes are '') you need to use double quotes only:\n",
    "\n",
    "astring = \"Hello world!\"\n",
    "print(\"single quotes are ' '\")\n",
    "\n",
    "#This prints out 12, because \"Hello world!\" is 12 characters long,\n",
    "#including punctuation and spaces.\n",
    "print(len(astring))\n"
   ]
  },
  {
   "cell_type": "code",
   "execution_count": null,
   "id": "be40f448",
   "metadata": {},
   "outputs": [],
   "source": [
    "# This prints out 4, because:\n",
    "# the location of the first occurence of the letter \"o\" is 4 characters away from the first character\n",
    "astring = \"Hello world!\"\n",
    "print(astring.index(\"o\"))\n",
    "\n",
    "# Notice there are two o's in the phrase - this method only recognizes the first\n",
    "# Remember Python starts at 0 instead of 1 (index of \"o\" is 4)"
   ]
  },
  {
   "cell_type": "code",
   "execution_count": null,
   "id": "c70f3f39",
   "metadata": {},
   "outputs": [],
   "source": [
    "# This counts the number of l's in the string. \n",
    "# Therefore, it should print 3.\n",
    "\n",
    "astring = \"Hello world!\"\n",
    "print(astring.count(\"l\"))"
   ]
  },
  {
   "cell_type": "code",
   "execution_count": null,
   "id": "4816a8f9",
   "metadata": {},
   "outputs": [],
   "source": [
    "# This prints a slice of the string, starting at index 3, and ending at index 6.\n",
    "# Why 6 and not 7?\n",
    "# It makes doing math inside those brackets easier\n",
    "\n",
    "astring = \"Hello world!\"\n",
    "print(astring[3:7])\n"
   ]
  },
  {
   "cell_type": "code",
   "execution_count": null,
   "id": "e4f94762",
   "metadata": {},
   "outputs": [],
   "source": [
    "# If you have one number in the brackets, it will give you the single character at that index\n",
    "# If you leave out the first number but keep the colon, it ill give you a slice from the start,\n",
    "# to the number you left in.\n",
    "# If you leave out the second number, it will give you a slice from the first number to the end."
   ]
  },
  {
   "cell_type": "code",
   "execution_count": null,
   "id": "57f5e322",
   "metadata": {},
   "outputs": [],
   "source": [
    "# You can even put negative numbers inside the brackets.\n",
    "# They are an easy way of starting at the end of the string instead of the beginnning\n",
    "# -3 means \"3rd character from the end\"\n",
    "\n",
    "print(astring[-3:])"
   ]
  },
  {
   "cell_type": "code",
   "execution_count": null,
   "id": "d2559e3d",
   "metadata": {},
   "outputs": [],
   "source": [
    "astring = \"Hello world!\"\n",
    "print(astring[3:7:2])"
   ]
  },
  {
   "cell_type": "code",
   "execution_count": null,
   "id": "2eaa5d6d",
   "metadata": {},
   "outputs": [],
   "source": [
    "#This prints the characters of string from 3 to 7 skipping one character. \n",
    "# This is extended slice syntax. \n",
    "# The general form is [start:stop:step].\n",
    "astring = \"Hello world!\"\n",
    "print(astring[3:7])\n",
    "print(astring[3:7:1])\n"
   ]
  },
  {
   "cell_type": "code",
   "execution_count": null,
   "id": "d47ce6c1",
   "metadata": {},
   "outputs": [],
   "source": [
    "# There is no function like strrev in C to reverse a string. \n",
    "# But with the above mentioned type of slice syntax you can easily reverse a string like this\n",
    "astring = \"Hello world!\"\n",
    "print(astring[::-1])"
   ]
  },
  {
   "cell_type": "code",
   "execution_count": null,
   "id": "3b045148",
   "metadata": {},
   "outputs": [],
   "source": [
    "# These make a new string with all letters converted to uppercase and lowercase, respectively.\n",
    "astring = \"Hello world!\"\n",
    "print(astring.upper())\n",
    "print(astring.lower())"
   ]
  },
  {
   "cell_type": "code",
   "execution_count": null,
   "id": "33171049",
   "metadata": {},
   "outputs": [],
   "source": [
    "# To determine whether the string starts with something or ends with something, respectively.\n",
    "astring = \"Hello world!\"\n",
    "print(astring.startswith(\"Hello\"))\n",
    "print(astring.endswith(\"asdfasdasdf\"))"
   ]
  },
  {
   "cell_type": "code",
   "execution_count": null,
   "id": "87e62bfd",
   "metadata": {},
   "outputs": [],
   "source": [
    "# This splits the string into a bunch of strings groupeed together in a list\n",
    "# Since this example splits at a space, the first item will be \"Hello\",\n",
    "# The second item in the list will be \"world!\"\n",
    "\n",
    "afewwords = astring.split(\" \")\n",
    "print(afewwords)"
   ]
  },
  {
   "cell_type": "code",
   "execution_count": null,
   "id": "02d338e2",
   "metadata": {},
   "outputs": [],
   "source": [
    "s = \"Strings are awesome!\"\n",
    "# Length should be 20\n",
    "print(\"Length of s = %d\" % len(s))\n",
    "\n",
    "# First occurrence of \"a\" should be at index 8\n",
    "print(\"The first occurrence of the letter a = %d\" % s.index(\"a\"))\n",
    "\n",
    "# Number of a's should be 2\n",
    "print(\"a occurs %d times\" % s.count(\"a\"))\n",
    "\n",
    "# Slicing the string into bits\n",
    "print(\"The first five characters are '%s'\" % s[:5]) # Start to 5\n",
    "print(\"The next five characters are '%s'\" % s[5:10]) # 5 to 10\n",
    "print(\"The thirteenth character is '%s'\" % s[12]) # Just number 12\n",
    "print(\"The characters with odd index are '%s'\" %s[1::2]) #(0-based indexing)\n",
    "print(\"The last five characters are '%s'\" % s[-5:]) # 5th-from-last to end\n",
    "\n",
    "# Convert everything to uppercase\n",
    "print(\"String in uppercase: %s\" % s.upper())\n",
    "\n",
    "# Convert everything to lowercase\n",
    "print(\"String in lowercase: %s\" % s.lower())\n",
    "\n",
    "# Check how a string starts\n",
    "if s.startswith(\"Str\"):\n",
    "    print(\"String starts with 'Str'. Good!\")\n",
    "\n",
    "# Check how a string ends\n",
    "if s.endswith(\"ome!\"):\n",
    "    print(\"String ends with 'ome!'. Good!\")\n",
    "\n",
    "# Split the string into three separate strings,\n",
    "# each containing only a word\n",
    "print(\"Split the words of the string: %s\" % s.split(\" \"))"
   ]
  },
  {
   "cell_type": "markdown",
   "id": "4e35bab3",
   "metadata": {},
   "source": [
    "# Conditions"
   ]
  },
  {
   "cell_type": "code",
   "execution_count": null,
   "id": "5b648bb8",
   "metadata": {},
   "outputs": [],
   "source": [
    "# Python uses boolean logic to evaluate conditions.\n",
    "# The boolean values True and Flase are returned when an expression is compared or evaluated\n",
    "\n",
    "x = 2\n",
    "print(x == 2) # prints out True\n",
    "print(x == 3) # prints out False\n",
    "print(x < 3) # prints out True\n"
   ]
  },
  {
   "cell_type": "code",
   "execution_count": null,
   "id": "12545499",
   "metadata": {},
   "outputs": [],
   "source": [
    "# Variable assignment is done using a single equals operator \"=\"\n",
    "# Comparison between two variables is done with \"==\"\n",
    "# The \"not equals\" operator is marked as \"!=\""
   ]
  },
  {
   "cell_type": "markdown",
   "id": "6b3df329",
   "metadata": {},
   "source": [
    "## Boolean operators\n",
    "### A binary variable, having two possible values called “true” and “false.”"
   ]
  },
  {
   "cell_type": "code",
   "execution_count": null,
   "id": "a619dc73",
   "metadata": {
    "scrolled": true
   },
   "outputs": [],
   "source": [
    "# The \"and\" and \"or\" boolean operators allow building complet boolean expressions:\n",
    "name = \"John\"\n",
    "age = 23\n",
    "if name == \"John\" and age == 23:\n",
    "    print(\"Your name is John, and you are also 23 years old.\")\n",
    "\n",
    "if name == \"John\" or name == \"Rick\":\n",
    "    print(\"Your name is either John or Rick.\")"
   ]
  },
  {
   "cell_type": "markdown",
   "id": "53f6863f",
   "metadata": {},
   "source": [
    "## If Statements"
   ]
  },
  {
   "cell_type": "code",
   "execution_count": null,
   "id": "d4f0d5f1",
   "metadata": {},
   "outputs": [],
   "source": [
    "# Python uses indentation to define code blocks, instead of brackets\n",
    "# 4 spaces, or tabs work as well\n",
    "# Notice that code blocks do not need any termination\n",
    "\n",
    "# This uses Python's \"if\" statement using code blocks:\n",
    "statement = False\n",
    "another_statement = True\n",
    "if statement is True:\n",
    "    # do something\n",
    "    pass\n",
    "elif another_statement is True: # else if\n",
    "    # do something else\n",
    "    pass\n",
    "else:\n",
    "    # do another thing\n",
    "    pass"
   ]
  },
  {
   "cell_type": "code",
   "execution_count": null,
   "id": "1499782d",
   "metadata": {},
   "outputs": [],
   "source": [
    "# For example:\n",
    "x = 2\n",
    "if x == 2:\n",
    "    print(\"x equals two!\")\n",
    "else:\n",
    "    print(\"x does not equal to two.\")"
   ]
  },
  {
   "cell_type": "code",
   "execution_count": null,
   "id": "a5f28bb6",
   "metadata": {},
   "outputs": [],
   "source": [
    "# A statement is evaluated as true if one of the following is correct:\n",
    "# 1. The \"True\" boolean variable is given, or calculated using an expression (e.g. arithmetic camparison)\n",
    "# 2. An object which is not considered \"empty\" is passed.\n",
    "\n",
    "# Example of objects considered as \"empty\"\n",
    "# 1. An empty string: \"\"\n",
    "# 2. An empty list: []\n",
    "# 3. The number zero: 0\n",
    "# 4. The false boolean variable: False"
   ]
  },
  {
   "cell_type": "markdown",
   "id": "97a99a21",
   "metadata": {},
   "source": [
    "## Is Operator"
   ]
  },
  {
   "cell_type": "code",
   "execution_count": null,
   "id": "cd38884d",
   "metadata": {},
   "outputs": [],
   "source": [
    "# The 'is' operator\n",
    "# Unlike \"==\", \"is\" operator does not match the values of the variables BUT\n",
    "# matches the instances themselves\n",
    "# Example: \n",
    "x = [1,2,3]\n",
    "y = [1,2,3]\n",
    "print(x == y)\n",
    "print(x is y)"
   ]
  },
  {
   "cell_type": "markdown",
   "id": "92ff3f1d",
   "metadata": {},
   "source": [
    "## Not Operator"
   ]
  },
  {
   "cell_type": "code",
   "execution_count": null,
   "id": "9c5cbb0e",
   "metadata": {},
   "outputs": [],
   "source": [
    "# Using \"not\" before a boolean expression inverts it:\n",
    "print(not False) # Prints out True\n",
    "print((not False) == (False)) # Prints out False"
   ]
  },
  {
   "cell_type": "code",
   "execution_count": null,
   "id": "520c1a5b",
   "metadata": {},
   "outputs": [],
   "source": [
    "# Exercise: change variables so that each if statement resolves as True\n",
    "# change this code\n",
    "number = 16\n",
    "second_number = 0\n",
    "first_array = [1,2,3]\n",
    "second_array = [1,2]\n",
    "\n",
    "if number > 15:\n",
    "    print(\"1\")\n",
    "\n",
    "if first_array:\n",
    "    print(\"2\")\n",
    "\n",
    "if len(second_array) == 2:\n",
    "    print(\"3\")\n",
    "\n",
    "if len(first_array) + len(second_array) == 5:\n",
    "    print(\"4\")\n",
    "\n",
    "if first_array and first_array[0] == 1:\n",
    "    print(\"5\")\n",
    "\n",
    "if not second_number:\n",
    "    print(\"6\")"
   ]
  },
  {
   "cell_type": "markdown",
   "id": "387b9090",
   "metadata": {},
   "source": [
    "## Loops\n",
    "### Two types of Loops: 'for' and 'while' "
   ]
  },
  {
   "cell_type": "markdown",
   "id": "13c172a0",
   "metadata": {},
   "source": [
    "## 'For' loops"
   ]
  },
  {
   "cell_type": "code",
   "execution_count": null,
   "id": "5f811e53",
   "metadata": {},
   "outputs": [],
   "source": [
    "# The \"for\" loop\n",
    "# For loops iterate over a given sequence\n",
    "primes = [2, 3, 5, 7]\n",
    "for prime in primes:\n",
    "    print(prime)"
   ]
  },
  {
   "cell_type": "code",
   "execution_count": null,
   "id": "dc4ec413",
   "metadata": {},
   "outputs": [],
   "source": [
    "# For Loops can iterate over a sequence of numbers using the \"range\" and \"xrange\" functions\n",
    "# Difference between range and xrange is:\n",
    "# range function returns a new list with numbers of that specified range\n",
    "# xrange returns an iterator, which is more efficient\n",
    "# Python 3 uses the range function, which acts like xrange"
   ]
  },
  {
   "cell_type": "code",
   "execution_count": null,
   "id": "a8d6866e",
   "metadata": {},
   "outputs": [],
   "source": [
    "# Note that the range function is zero based\n",
    "\n",
    "# Prints out the numbers 0, 1, 2, 3, 4\n",
    "for x in range(5):\n",
    "    print(x)"
   ]
  },
  {
   "cell_type": "code",
   "execution_count": null,
   "id": "74c40194",
   "metadata": {},
   "outputs": [],
   "source": [
    "# Prints out 3, 4, 5\n",
    "for x in range(3, 6):\n",
    "    print(x)"
   ]
  },
  {
   "cell_type": "code",
   "execution_count": null,
   "id": "1461fbea",
   "metadata": {},
   "outputs": [],
   "source": [
    "# Prints out 3, 5, 7\n",
    "for x in range(3, 8, 2):\n",
    "    print(x)"
   ]
  },
  {
   "cell_type": "markdown",
   "id": "17e7debc",
   "metadata": {},
   "source": [
    "## 'While' loops"
   ]
  },
  {
   "cell_type": "code",
   "execution_count": null,
   "id": "52136aeb",
   "metadata": {},
   "outputs": [],
   "source": [
    "# While loops repeat as long as a certain boolean condition is met\n",
    "\n",
    "# Prints out 0,1,2,3,4\n",
    "count = 0\n",
    "while count < 5:\n",
    "    print(count)\n",
    "    count += 1  # This is the same as count = count + 1\n",
    "    "
   ]
  },
  {
   "cell_type": "markdown",
   "id": "93047924",
   "metadata": {},
   "source": [
    "## 'Break' and 'Continue' Statements"
   ]
  },
  {
   "cell_type": "code",
   "execution_count": null,
   "id": "53f55ffd",
   "metadata": {},
   "outputs": [],
   "source": [
    "# break is used to exit a for or while loop\n",
    "# continue is used to skip the current block, and return the \"for\" or \"while\" statement\n",
    "\n",
    "# Prints out 0,1,2,3,4\n",
    "count = 0\n",
    "while True:\n",
    "    print(count)\n",
    "    count += 1\n",
    "    if count >= 5:\n",
    "        break"
   ]
  },
  {
   "cell_type": "code",
   "execution_count": null,
   "id": "a3bedeb1",
   "metadata": {},
   "outputs": [],
   "source": [
    "# Prints out only odd numbers - 1,3,5,7,9\n",
    "for x in range(10):\n",
    "    # Check if x is even\n",
    "    if x % 2 == 0:\n",
    "        continue\n",
    "    print(x)"
   ]
  },
  {
   "cell_type": "markdown",
   "id": "94e49d7f",
   "metadata": {},
   "source": [
    "## Using 'else' for Loops"
   ]
  },
  {
   "cell_type": "code",
   "execution_count": null,
   "id": "a3cd2e11",
   "metadata": {},
   "outputs": [],
   "source": [
    "# When the loop condition of \"for\" or \"while\" statement fails:\n",
    "# The code part in \"else\" is executed\n",
    "# If a break statement is executed inside the for loops, then the \"else\" part is skipped."
   ]
  },
  {
   "cell_type": "code",
   "execution_count": null,
   "id": "6606a618",
   "metadata": {},
   "outputs": [],
   "source": [
    "# Note that the \"else\" part is executed x"
   ]
  }
 ],
 "metadata": {
  "kernelspec": {
   "display_name": "Python 3 (ipykernel)",
   "language": "python",
   "name": "python3"
  },
  "language_info": {
   "codemirror_mode": {
    "name": "ipython",
    "version": 3
   },
   "file_extension": ".py",
   "mimetype": "text/x-python",
   "name": "python",
   "nbconvert_exporter": "python",
   "pygments_lexer": "ipython3",
   "version": "3.9.12"
  }
 },
 "nbformat": 4,
 "nbformat_minor": 5
}
